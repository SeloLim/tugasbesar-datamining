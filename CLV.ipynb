{
 "cells": [
  {
   "cell_type": "code",
   "execution_count": 6,
   "id": "5531e1bc-1e2e-4745-92b3-65f97f6333c0",
   "metadata": {},
   "outputs": [
    {
     "data": {
      "text/html": [
       "<div>\n",
       "<style scoped>\n",
       "    .dataframe tbody tr th:only-of-type {\n",
       "        vertical-align: middle;\n",
       "    }\n",
       "\n",
       "    .dataframe tbody tr th {\n",
       "        vertical-align: top;\n",
       "    }\n",
       "\n",
       "    .dataframe thead th {\n",
       "        text-align: right;\n",
       "    }\n",
       "</style>\n",
       "<table border=\"1\" class=\"dataframe\">\n",
       "  <thead>\n",
       "    <tr style=\"text-align: right;\">\n",
       "      <th></th>\n",
       "      <th>Customer_ID</th>\n",
       "      <th>Product_ID</th>\n",
       "      <th>Transaction_ID</th>\n",
       "      <th>Purchase_Frequency</th>\n",
       "      <th>Average_Order_Value</th>\n",
       "      <th>Most_Frequent_Category</th>\n",
       "      <th>Time_Between_Purchases</th>\n",
       "      <th>Region</th>\n",
       "      <th>Churn_Probability</th>\n",
       "      <th>Lifetime_Value</th>\n",
       "      <th>Launch_Date</th>\n",
       "      <th>Peak_Sales_Date</th>\n",
       "      <th>Season</th>\n",
       "      <th>Preferred_Purchase_Times</th>\n",
       "      <th>Retention_Strategy</th>\n",
       "    </tr>\n",
       "  </thead>\n",
       "  <tbody>\n",
       "    <tr>\n",
       "      <th>0</th>\n",
       "      <td>CUST_9HOS83</td>\n",
       "      <td>PROD_IK97D1</td>\n",
       "      <td>TRANS_II1DZG</td>\n",
       "      <td>17</td>\n",
       "      <td>172.57</td>\n",
       "      <td>Electronics</td>\n",
       "      <td>45</td>\n",
       "      <td>South America</td>\n",
       "      <td>0.98</td>\n",
       "      <td>2993.56</td>\n",
       "      <td>2020-03-14</td>\n",
       "      <td>2023-09-11</td>\n",
       "      <td>Winter</td>\n",
       "      <td>Afternoon</td>\n",
       "      <td>Loyalty Program</td>\n",
       "    </tr>\n",
       "    <tr>\n",
       "      <th>1</th>\n",
       "      <td>CUST_AJU17N</td>\n",
       "      <td>PROD_UNN7KP</td>\n",
       "      <td>TRANS_9HJF7I</td>\n",
       "      <td>10</td>\n",
       "      <td>64.89</td>\n",
       "      <td>Clothing</td>\n",
       "      <td>6</td>\n",
       "      <td>South America</td>\n",
       "      <td>0.66</td>\n",
       "      <td>983.18</td>\n",
       "      <td>2022-10-15</td>\n",
       "      <td>2023-01-02</td>\n",
       "      <td>Spring</td>\n",
       "      <td>Afternoon</td>\n",
       "      <td>Discount</td>\n",
       "    </tr>\n",
       "    <tr>\n",
       "      <th>2</th>\n",
       "      <td>CUST_11XNYF</td>\n",
       "      <td>PROD_0XEW2W</td>\n",
       "      <td>TRANS_OT96OM</td>\n",
       "      <td>3</td>\n",
       "      <td>120.38</td>\n",
       "      <td>Sports</td>\n",
       "      <td>23</td>\n",
       "      <td>Asia</td>\n",
       "      <td>0.60</td>\n",
       "      <td>601.90</td>\n",
       "      <td>2021-11-30</td>\n",
       "      <td>2023-04-06</td>\n",
       "      <td>Winter</td>\n",
       "      <td>Evening</td>\n",
       "      <td>Loyalty Program</td>\n",
       "    </tr>\n",
       "    <tr>\n",
       "      <th>3</th>\n",
       "      <td>CUST_IGH8G3</td>\n",
       "      <td>PROD_3IIAJN</td>\n",
       "      <td>TRANS_45V00G</td>\n",
       "      <td>12</td>\n",
       "      <td>70.34</td>\n",
       "      <td>Clothing</td>\n",
       "      <td>5</td>\n",
       "      <td>North America</td>\n",
       "      <td>0.78</td>\n",
       "      <td>1082.15</td>\n",
       "      <td>2022-03-20</td>\n",
       "      <td>2023-03-23</td>\n",
       "      <td>Spring</td>\n",
       "      <td>Evening</td>\n",
       "      <td>Discount</td>\n",
       "    </tr>\n",
       "    <tr>\n",
       "      <th>4</th>\n",
       "      <td>CUST_OK6PUM</td>\n",
       "      <td>PROD_VMIWD2</td>\n",
       "      <td>TRANS_ZAK760</td>\n",
       "      <td>18</td>\n",
       "      <td>42.39</td>\n",
       "      <td>Electronics</td>\n",
       "      <td>10</td>\n",
       "      <td>North America</td>\n",
       "      <td>0.52</td>\n",
       "      <td>1467.35</td>\n",
       "      <td>2022-11-09</td>\n",
       "      <td>2023-10-28</td>\n",
       "      <td>Spring</td>\n",
       "      <td>Morning</td>\n",
       "      <td>Discount</td>\n",
       "    </tr>\n",
       "  </tbody>\n",
       "</table>\n",
       "</div>"
      ],
      "text/plain": [
       "   Customer_ID   Product_ID Transaction_ID  Purchase_Frequency  \\\n",
       "0  CUST_9HOS83  PROD_IK97D1   TRANS_II1DZG                  17   \n",
       "1  CUST_AJU17N  PROD_UNN7KP   TRANS_9HJF7I                  10   \n",
       "2  CUST_11XNYF  PROD_0XEW2W   TRANS_OT96OM                   3   \n",
       "3  CUST_IGH8G3  PROD_3IIAJN   TRANS_45V00G                  12   \n",
       "4  CUST_OK6PUM  PROD_VMIWD2   TRANS_ZAK760                  18   \n",
       "\n",
       "   Average_Order_Value Most_Frequent_Category  Time_Between_Purchases  \\\n",
       "0               172.57            Electronics                      45   \n",
       "1                64.89               Clothing                       6   \n",
       "2               120.38                 Sports                      23   \n",
       "3                70.34               Clothing                       5   \n",
       "4                42.39            Electronics                      10   \n",
       "\n",
       "          Region  Churn_Probability  Lifetime_Value Launch_Date  \\\n",
       "0  South America               0.98         2993.56  2020-03-14   \n",
       "1  South America               0.66          983.18  2022-10-15   \n",
       "2           Asia               0.60          601.90  2021-11-30   \n",
       "3  North America               0.78         1082.15  2022-03-20   \n",
       "4  North America               0.52         1467.35  2022-11-09   \n",
       "\n",
       "  Peak_Sales_Date  Season Preferred_Purchase_Times Retention_Strategy  \n",
       "0      2023-09-11  Winter                Afternoon    Loyalty Program  \n",
       "1      2023-01-02  Spring                Afternoon           Discount  \n",
       "2      2023-04-06  Winter                  Evening    Loyalty Program  \n",
       "3      2023-03-23  Spring                  Evening           Discount  \n",
       "4      2023-10-28  Spring                  Morning           Discount  "
      ]
     },
     "execution_count": 6,
     "metadata": {},
     "output_type": "execute_result"
    }
   ],
   "source": [
    "import pandas as pd\n",
    "import numpy as np\n",
    "\n",
    "from sklearn.model_selection import train_test_split\n",
    "from sklearn.metrics import mean_absolute_error, r2_score\n",
    "from sklearn.ensemble import GradientBoostingRegressor\n",
    "\n",
    "from sklearn.linear_model import LinearRegression\n",
    "from sklearn.ensemble import RandomForestRegressor\n",
    "from sklearn.tree import DecisionTreeRegressor\n",
    "\n",
    "import seaborn as sns\n",
    "import matplotlib.pyplot as plt\n",
    "\n",
    "data = pd.read_csv('datasets.csv')\n",
    "data.head()\n"
   ]
  },
  {
   "cell_type": "code",
   "execution_count": 8,
   "id": "3346f072-4ecb-4369-ae1b-aa3087dda750",
   "metadata": {},
   "outputs": [],
   "source": [
    "features = ['Purchase_Frequency', 'Average_Order_Value', 'Churn_Probability', 'Time_Between_Purchases']\n",
    "target = 'Lifetime_Value'\n",
    "\n",
    "# Mengisi nilai kosong dengan nilai rata-rata pada setiap kolom/fitur yang dipilih\n",
    "for feature in features:\n",
    "    data[feature] = data[feature].fillna(data[feature].mean())\n",
    "\n",
    "# Melakukan handling Outlier menggunakan metode IQR\n",
    "for feature in features:\n",
    "    Q1 = data[feature].quantile(0.25)\n",
    "    Q3 = data[feature].quantile(0.75)\n",
    "    IQR = Q3 - Q1\n",
    "    lower_bound = Q1 - 1.5 * IQR\n",
    "    upper_bound = Q3 + 1.5 * IQR\n",
    "\n",
    "    data[feature] = data[feature].clip(lower_bound, upper_bound)\n",
    "\n",
    "X = data[features]\n",
    "y = data[target]\n",
    "\n",
    "X_train, X_test, y_train, y_test = train_test_split(X, y, test_size=0.2, random_state=42)"
   ]
  },
  {
   "cell_type": "code",
   "execution_count": 5,
   "id": "e2047f88-c029-4087-bd18-7aad06e98b44",
   "metadata": {},
   "outputs": [
    {
     "name": "stdout",
     "output_type": "stream",
     "text": [
      "Mean Absolute Error (MAE): 5.430626250866519e-13\n",
      "R-squared (R2): 1.0\n"
     ]
    }
   ],
   "source": [
    "model = LinearRegression()\n",
    "model.fit(X_train, y_train)\n",
    "y_pred = model.predict(X_test)\n",
    "mae = mean_absolute_error(y_test, y_pred)\n",
    "r2 = r2_score(y_test, y_pred)\n",
    "\n",
    "print('Mean Absolute Error (MAE):', mae)\n",
    "print('R-squared (R2):', r2)\n",
    "\n",
    "mae_linear = mae\n",
    "r2_linear = r2"
   ]
  },
  {
   "cell_type": "code",
   "execution_count": null,
   "id": "03237d43-7f4c-4625-8148-1bc7c6dc94a5",
   "metadata": {},
   "outputs": [
    {
     "name": "stdout",
     "output_type": "stream",
     "text": [
      "Mean Absolute Error (MAE): 414.61275525000013\n",
      "R-squared (R2): 0.9821731219732335\n"
     ]
    }
   ],
   "source": [
    "model = RandomForestRegressor(random_state=42, n_estimators=120)\n",
    "\n",
    "model.fit(X_train, y_train)\n",
    "y_pred = model.predict(X_test)\n",
    "\n",
    "mae = mean_absolute_error(y_test, y_pred)\n",
    "r2 = r2_score(y_test, y_pred)\n",
    "\n",
    "print('Mean Absolute Error (MAE):', mae)\n",
    "print('R-squared (R2):', r2)\n",
    "\n",
    "mae_rf = mae\n",
    "r2_rf = r2"
   ]
  },
  {
   "cell_type": "code",
   "execution_count": null,
   "id": "df6df6c2-d028-449d-bf2c-11e5f37297f6",
   "metadata": {},
   "outputs": [
    {
     "name": "stdout",
     "output_type": "stream",
     "text": [
      "Mean Absolute Error (MAE): 901.3833401605414\n",
      "R-squared (R2): 0.9651834467882999\n"
     ]
    }
   ],
   "source": [
    "model = DecisionTreeRegressor(random_state=1, max_depth=9)\n",
    "model.fit(X_train, y_train)\n",
    "\n",
    "y_pred = model.predict(X_test)\n",
    "\n",
    "mae = mean_absolute_error(y_test, y_pred)\n",
    "r2 = r2_score(y_test, y_pred)\n",
    "\n",
    "print('Mean Absolute Error (MAE):', mae)\n",
    "print('R-squared (R2):', r2)\n",
    "\n",
    "mae_dt = mae\n",
    "r2_dt = r2"
   ]
  },
  {
   "cell_type": "code",
   "execution_count": 126,
   "id": "cd274489-5963-4f54-8fd8-40eb2256bcc8",
   "metadata": {},
   "outputs": [
    {
     "name": "stdout",
     "output_type": "stream",
     "text": [
      "Mean Absolute Error (MAE): 394.28616790005844\n",
      "R-squared (R2): 0.985479928315043\n"
     ]
    }
   ],
   "source": [
    "model = GradientBoostingRegressor(random_state=1, n_estimators=2000, learning_rate=0.1, max_depth=4)\n",
    "model.fit(X_train, y_train)\n",
    "\n",
    "y_pred = model.predict(X_test)\n",
    "\n",
    "mae = mean_absolute_error(y_test, y_pred)\n",
    "r2 = r2_score(y_test, y_pred)\n",
    "\n",
    "print('Mean Absolute Error (MAE):', mae)\n",
    "print('R-squared (R2):', r2)\n",
    "\n",
    "mae_gb = mae\n",
    "r2_gb = r2"
   ]
  },
  {
   "cell_type": "code",
   "execution_count": 128,
   "id": "4ce163c5",
   "metadata": {},
   "outputs": [
    {
     "name": "stdout",
     "output_type": "stream",
     "text": [
      "               Model          MAE        R2\n",
      "0      Decision Tree   901.383340  0.965183\n",
      "1  Linear Regression  6023.641140  0.198279\n",
      "2      Random Forest   414.612755  0.982173\n",
      "3  Gradient Boosting   394.286168  0.985480\n",
      "\n",
      "Model dengan nilai R2 terbesar dan MAE terkecil akan diambil sebagai final model yang akan di deploy menggunakan streamlit dan ngrok\n"
     ]
    }
   ],
   "source": [
    "# Membuat dictionary dengan nama model sebagai key dan nilai MAE dan R2 sebagai value\n",
    "result_data = {\n",
    "    'Model': ['Decision Tree', 'Linear Regression', 'Random Forest', 'Gradient Boosting'],\n",
    "    'MAE': [mae_dt, mae_linear, mae_rf, mae_gb],\n",
    "    'R2': [r2_dt, r2_linear, r2_rf, r2_gb]\n",
    "}\n",
    "\n",
    "comparison_table = pd.DataFrame(result_data)\n",
    "\n",
    "print(comparison_table)\n",
    "print('\\nModel dengan nilai R2 terbesar dan MAE terkecil akan diambil sebagai final model yang akan di deploy menggunakan streamlit dan ngrok')"
   ]
  },
  {
   "cell_type": "code",
   "execution_count": null,
   "id": "566b4a50",
   "metadata": {},
   "outputs": [],
   "source": []
  }
 ],
 "metadata": {
  "kernelspec": {
   "display_name": "base",
   "language": "python",
   "name": "python3"
  },
  "language_info": {
   "codemirror_mode": {
    "name": "ipython",
    "version": 3
   },
   "file_extension": ".py",
   "mimetype": "text/x-python",
   "name": "python",
   "nbconvert_exporter": "python",
   "pygments_lexer": "ipython3",
   "version": "3.12.4"
  }
 },
 "nbformat": 4,
 "nbformat_minor": 5
}
